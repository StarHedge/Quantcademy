{
 "cells": [
  {
   "cell_type": "markdown",
   "metadata": {},
   "source": [
    "# Introduction \n",
    "\n",
    "1. Set your objectives. (https://goo.gl/forms/MqhtbFBpzN0cOOBQ2)  . \n",
    "Quantcademy is officially for quantitative finance, but it's really the hands-on immerse in career and life club.\n",
    "2. Rise of Data Science/Artificial Intelligence\n",
    "3. Rise of Algorithmic Trading\n",
    "\n",
    "## Intro to Python\n",
    "- Relevance of programming\n",
    "- Algorithms (Computational Mathematics)\n",
    "- Automated Trading Systems\n",
    "- Languages: Python, R, OCaml, C++, etc.\n",
    "\n",
    "# Outline for Studying Python \n",
    "\n",
    "## Top Resources: Codecademy, Datacamp, Stack Exchange\n",
    "### Python is one of the easiest languages to learn in terms of syntax/programming, but it takes practice to get really good.\n",
    "\n",
    "1. Basic syntax/statements/basic functions\n",
    "2. Data structures (strings, ints, floats, bools)\n",
    "3. Lists and dictionaries\n",
    "4. Conditionals\n",
    "5. Functions\n",
    "6. Loops\n",
    "7. Classes (OOP — Object-oriented programming)\n",
    "8. Data Science libraries: Anaconda [np.array(), plt.plot(), pd dataframe] (https://www.anaconda.com/download/)\n",
    "9. Jupyter Notebooks, LaTeX\n",
    "10. Machine learning libraries: sklearn, keras, tensorflow, statsmodels\n",
    "11. Algo trading libraries: Zipline (Quantopian), Quandl (for data)\n",
    "\n",
    "\n",
    "## Some Advice/Tactics for Learning\n",
    "### Key: Breadth vs. depth. Find the balance between doing extra and doing the bare minimum. Blend the two. \n",
    "-  Stay away from doing what you don't need, but be ready to explore. \n",
    "- If your goal is breadth, make sure you stay on track\n",
    "- Use Codecademy at the beginning\n",
    "- As you progress, begin to explore on your own\n",
    "- Best way to learn is to actually write your own codes\n",
    "- Try to apply everything\n",
    "- Really helpful: Do all your physics labs in Python\n",
    "- Get good at using documentations (https://www.python.org)\n",
    "- Also use Google a lot, and Stack Exchange. \n",
    "\n",
    "### IMPORTANT: Always feel free to email me (abrhorowitz@gmail.com). If I'm too busy, I'll tell you or won't answer. I am here for you guys.\n"
   ]
  },
  {
   "cell_type": "markdown",
   "metadata": {},
   "source": []
  },
  {
   "cell_type": "code",
   "execution_count": null,
   "metadata": {
    "collapsed": true
   },
   "outputs": [],
   "source": []
  }
 ],
 "metadata": {
  "kernelspec": {
   "display_name": "Python 3",
   "language": "python",
   "name": "python3"
  },
  "language_info": {
   "codemirror_mode": {
    "name": "ipython",
    "version": 3
   },
   "file_extension": ".py",
   "mimetype": "text/x-python",
   "name": "python",
   "nbconvert_exporter": "python",
   "pygments_lexer": "ipython3",
   "version": "3.6.1"
  }
 },
 "nbformat": 4,
 "nbformat_minor": 2
}
