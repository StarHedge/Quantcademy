{
 "cells": [
  {
   "cell_type": "markdown",
   "metadata": {},
   "source": [
    "*BS\"D*\n",
    "\n",
    "# Vectors & Matrices \n",
    "\n",
    "# Definition and Brief Intro to Matrices\n",
    "\"A matrix is a collection of numbers arranged into a fixed number of rows and columns.\" (http://chortle.ccsu.edu/vectorlessons/vmch13/vmch13_2.html) They are often used for organizing data similar to like a table, except that a matrix is a mathematical object with defined operations. Square matrices, where the dimensions are $n\\times n$, have special properties: They have an inverse matrix. There is a 0-matrix, denoted with its dimensions as $0_{m\\times n}$, a 1s matrix, denoted in the same way, and the identity matrix where the diagonal going from the top left corner is 1s, and the rest of the elements are 0s. For example, \n",
    "\n",
    "$$I_{3\\times 3} = \\begin{bmatrix} 1 & 0 & 0 \\\\ 0 & 1 & 0 \\\\ 0 & 0 & 1 \\end{bmatrix}$$ In math, an identity within the framework of an operator is defined as \"a transformation that leaves an object unchanged.\" Or \"an element of a set that, if combined with another element by a specified binary operation, leaves that element unchanged.\" (Google Dictionary). in addition, the identity is 0, in multiplication its 1, and in matrix multiplication is the identity matrix. For more, you can just look in your MA Textbook.\n",
    "\n",
    "## Important Matrix Operations\n",
    "- **Multiplication — Dot Product**\n",
    "- **Inverses — Determinants**\n",
    "- **Addition / Subtraction**\n",
    "\n",
    "## Practical Relevance: Integrating the Two Concepts\n",
    "### This will make MA2 a lot less confusing, and hopefully a little less boring\n",
    "You might just view a matrix as a table. Actually though, it is a very powerful, concise way of expressing n-dimensional vectors, which is a huge part of machine learning. Each variable/factor is a dimension, so you can be working with 10, 11, 12, . . . , 1,000,000, . . . , etc. dimensions. It's hard to visualize, but my friend had a nice way of thinking about this: The $x$-axis moves along 0-dimensional points. There's no depth to them. The $y$-axis moves you along points given some point on the $x$-axis. The $z$-axis moves you along points given a point on the $x$ and $y$ axes. The 4th-axis (insert Greek letter) moves you along points given a point on the $x$, $y$, and $z$ axes. And so on. **A big thing that I've found helps me with this stuff is to break down a bigger problem into a simpler one.** For a basic example, take the following matrix:\n",
    "$$\\begin{bmatrix} 2 & 3 & 5\\\\ 4 & 6 & 7\\end{bmatrix}$$ \n",
    "\n",
    "It is a $2\\times3$ matrix. This matrix can be viewed as two 3 dimensional vectors: $(2,3,5); (4,6,7)$ together in the $x$-$y$-$z$ space. Now a more complicated one:\n",
    "\n",
    "$$\\begin{bmatrix} 5. & 3. & 2.3 & 1. & 15.3 \\\\  9.3 & 14. & 1. & 7.3 & 18.2\\\\ 10.2 & 8.3 & 19.6 & 12.1 & 20.3 \\\\ 21.1 & 17.4 & 32.1 & 7.5 & 28.9 \\\\ 5.4 & 8.3 & 9.3 & 12.9 & 18.1 \\\\ 5.2 & 7.3 & 8.3 & 28.9 & 32.1 \\end{bmatrix}$$\n",
    "\n",
    "Six vectors, each with 5 dimensions. Now how does this work with multiplication? The rule is that to multiply two matrices of dimensions $m\\times n$ and $k\\times l$, $n=k$ must be $True$ and the dimensions of the product will be $m\\times l$. So $A_{2\\times 3} \\cdot B_{3\\times 4} = C_{2 \\times 4}$. This is because we flip the configuration in the second matrix: What would be rows become columns and what would be columns become columns. Just kidding, rows. Anyway, the reason the middle dimensions has to be equal is because we're saying that the number of dimensions for the vectors in each matrix has to be same obviously, because what will do is we will find the dot product of each vector in one matrix with each vector in the other. So one row for each vector in the first matrix, one column for each vector in the other. So the matrix product is basically a table.\n",
    "\n",
    "*Abraham Horowitz*"
   ]
  }
 ],
 "metadata": {
  "kernelspec": {
   "display_name": "Python 3",
   "language": "python",
   "name": "python3"
  },
  "language_info": {
   "codemirror_mode": {
    "name": "ipython",
    "version": 3
   },
   "file_extension": ".py",
   "mimetype": "text/x-python",
   "name": "python",
   "nbconvert_exporter": "python",
   "pygments_lexer": "ipython3",
   "version": "3.6.1"
  }
 },
 "nbformat": 4,
 "nbformat_minor": 2
}
