{
 "cells": [
  {
   "cell_type": "markdown",
   "metadata": {},
   "source": [
    "# Intro to Stats\n",
    "\n",
    "## Sample vs. Population\n",
    "One of the most basic and imporant distinctions in statistics. A sample is a subset of data. The complete picture of the data is the population. Since a sample may have sample bias, we treat a sample differently then a population. When dealing with the stock market, we say that we never have the full population of data (unless a public company goes bankrupt or privatizes). However, the longer a stock's history is, the smaller any statistical adjustments will need to be since we believe that our sample is more likely to be representative of the whole population. (That is meant to be intuitive.)\n",
    "\n",
    "## Descriptive vs. Inferential\n",
    "Descriptive statistics are meant to describe general characteristics about a dataset, whether its a sample or population. When describing a sample, we need to understand that a sample is a sample, not a mean. \n",
    "\n",
    "## Null Hypothesis and Statistical Tests\n",
    "Important, but kind of confusing. The null hypothesis is a common or intuitive, binary statement about data. Often we wish to prove or identify some statistically significant characteristic in data. For example, we often wish to test a time series for stationarity (constancy in statistical properties). We will try to disprove, or reject the null hypothesis that the time series is not stationary (i.e. there is a unit root). The alternative hypothesis is that there is no unit root and the time series is statistically stationary. \n",
    "\n",
    "In statistical tests, we often look to a p-value to demonstrate statistical significance of test results. If the p-value is less than a critical value, usually 0.05 or 0.06, then we can reject the null hypothesis and accept the alternative. In the stationarity example, you can use a Dicker-Fuller Test, found in the Statsmodels library in Python. If the p-value returned is less than 0.06, the data is stationary. Otherwise, you may have to perform some transformation (such as differencing) to make the data stationary. We will look at this more in Phase 3.\n",
    "\n",
    "## Frequency vs. Bayesian\n",
    "\n",
    "## Words to Describe Data and Models\n",
    "\n",
    "### Discrete vs. Continuous\n",
    "Is the domain a running, uninterrupted scale (e.g. all real numbers), or stepped? For example, a step function has a discrete range, but a quadratic such as $y=x^2$ is continuous. The mathematical definition of continuous (pretty big in calculus) is that the limit of the plot is the same on both the left and right side. Formally:\n",
    "$$\\lim_{x\\to n^+}f=\\lim_{x\\to n^-}f = \\lim_{x\\to n}f$$ for all real numbers $n$ in any specified domain. If it is discrete, then the right side limit will not be equal to the left side limit. Would the data set $\\{1,2,3,4,5\\}$ be discrete or continuous within that domain?\n",
    "\n",
    "### Deterministic vs. Stochastic (Probabilistic)\n",
    "A deterministic model is one where the model parameters are learned from objective computations. There is no chance involved. If our inputs are $X$, then the resulting parameters will definitely be $Y$. The parameters are a function of some inputs, meaning that there is a one-to-one (or two, three, etc.-to-one) mapping between the two. If there is some stochastic element involved, there is some element of random chance involved in deciding the model parameters. Theoretically, there is a each set of inputs maps to the whole range of possible parameters for a model, but some will be more likely than others.\n",
    "\n",
    "The most classic (and simplest) example of this is a Markov chain.\n",
    "![http://4.bp.blogspot.com/-u9XslQrACb8/VK71Cym3zQI/AAAAAAAAAA0/DAxkKTcCKvc/s1600/markovdiag.png](markovdiag.png \"Markov Chain Weather (Example 1)\")\n",
    "![https://upload.wikimedia.org/wikipedia/commons/thumb/9/95/Finance_Markov_chain_example_state_space.svg/400px-Finance_Markov_chain_example_state_space.svg.png](MarkovFinance.png \"Markov Chain Finance (Example)\")\n",
    "\n",
    "\n",
    "### Static vs. Dynamic\n",
    "A static model involves constant form and parameters. Often, we view models as relatively static or dynamic to one another. Something like $f(x) = 2x^2 + 1$ is purely static, while dynamic usually means the model parameters are changing in some way. This is also something well reflected in a Markov chain."
   ]
  }
 ],
 "metadata": {
  "kernelspec": {
   "display_name": "Python 3",
   "language": "python",
   "name": "python3"
  },
  "language_info": {
   "codemirror_mode": {
    "name": "ipython",
    "version": 3
   },
   "file_extension": ".py",
   "mimetype": "text/x-python",
   "name": "python",
   "nbconvert_exporter": "python",
   "pygments_lexer": "ipython3",
   "version": "3.6.1"
  }
 },
 "nbformat": 4,
 "nbformat_minor": 2
}
